{
  "nbformat": 4,
  "nbformat_minor": 0,
  "metadata": {
    "colab": {
      "provenance": []
    },
    "kernelspec": {
      "name": "python3",
      "display_name": "Python 3"
    },
    "language_info": {
      "name": "python"
    }
  },
  "cells": [
    {
      "cell_type": "code",
      "execution_count": null,
      "metadata": {
        "colab": {
          "base_uri": "https://localhost:8080/"
        },
        "id": "zs68azvWXM41",
        "outputId": "92483ffc-7a7c-4b92-cf3a-a9f7ed396448"
      },
      "outputs": [
        {
          "output_type": "stream",
          "name": "stdout",
          "text": [
            "Looking in indexes: https://pypi.org/simple, https://us-python.pkg.dev/colab-wheels/public/simple/\n",
            "Collecting pyspark\n",
            "  Downloading pyspark-3.3.1.tar.gz (281.4 MB)\n",
            "\u001b[K     |████████████████████████████████| 281.4 MB 36 kB/s \n",
            "\u001b[?25hCollecting py4j==0.10.9.5\n",
            "  Downloading py4j-0.10.9.5-py2.py3-none-any.whl (199 kB)\n",
            "\u001b[K     |████████████████████████████████| 199 kB 41.5 MB/s \n",
            "\u001b[?25hBuilding wheels for collected packages: pyspark\n",
            "  Building wheel for pyspark (setup.py) ... \u001b[?25l\u001b[?25hdone\n",
            "  Created wheel for pyspark: filename=pyspark-3.3.1-py2.py3-none-any.whl size=281845512 sha256=524447f27ade77f696800319a777e17a0d8d8713c65ce20fc3a915e86f4976bf\n",
            "  Stored in directory: /root/.cache/pip/wheels/43/dc/11/ec201cd671da62fa9c5cc77078235e40722170ceba231d7598\n",
            "Successfully built pyspark\n",
            "Installing collected packages: py4j, pyspark\n",
            "Successfully installed py4j-0.10.9.5 pyspark-3.3.1\n"
          ]
        }
      ],
      "source": [
        "!pip install pyspark"
      ]
    },
    {
      "cell_type": "code",
      "source": [],
      "metadata": {
        "id": "JpUWVxaGL2pA"
      },
      "execution_count": null,
      "outputs": []
    },
    {
      "cell_type": "code",
      "source": [
        "from pyspark.sql import SparkSession\n",
        "import pyspark.sql.types as T\n",
        "import pyspark.sql.functions as F\n",
        "import datetime\n",
        "import time\n",
        "import random\n",
        "spark = SparkSession.builder.master('local[*]').getOrCreate()\n"
      ],
      "metadata": {
        "id": "SHqu-zuYXrBC"
      },
      "execution_count": null,
      "outputs": []
    },
    {
      "cell_type": "markdown",
      "source": [
        "Создайте схему будущего фрейма данных. Схема должна включать следующие атрибуты:"
      ],
      "metadata": {
        "id": "XECmhuf9X8Tc"
      }
    },
    {
      "cell_type": "code",
      "source": [
        "schema = T.StructType([\n",
        "                       T.StructField(\"id\", T.IntegerType(), True),\n",
        "                T.StructField(\"timestamp\", T.LongType(), True),\n",
        "                T.StructField(\"type\", T.StringType(), True),\n",
        "                T.StructField(\"page_id\", T.IntegerType(), True),\n",
        "                T.StructField(\"tag\", T.StringType(), True),\n",
        "                T.StructField(\"sign\", T.BooleanType(), True)])\n",
        "\n"
      ],
      "metadata": {
        "id": "xie8imw5YOxt"
      },
      "execution_count": null,
      "outputs": []
    },
    {
      "cell_type": "code",
      "source": [
        "data =[(12345, 1667627426, \"click\", 101, \"sport\", True),\n",
        "       (12345, 1380412800, \"move\", 102, \"sport\", True),\n",
        "    (12346, 1211760000, \"visit\", 103, \"IT\", True),\n",
        "    (12344, 1522713600, \"scroll\", 104, \"education\", True),\n",
        "    (12344, 1423612800, \"click\", 105, \"education\", False),\n",
        "    (12347, 1337644800, \"move\", 106, \"medicine\", True),\n",
        "   (12346, 1026000000, \"click\", 107, \"IT\", False),\n",
        "   (12346, 1332460800, \"click\", 108, \"IT\", False),\n",
        "   (12345, 1276473600, \"visit\", 109, \"sport\", True),\n",
        "    (12347, 1289347200, \"click\", 110, \"medicine\", True),\n",
        "    (12343, 985910400, \"move\", 111, \"sport\", True),\n",
        "    (12348, 1542153600, \"scroll\", 112, \"politics\", False),\n",
        "    (12348, 1557100800, \"click\", 113, \"politics\", False),\n",
        "    (12345, 1547424000, \"move\", 114, \"sport\", True),\n",
        "   (12345, 1438732800, \"scroll\", 115, \"sport\", True)]\n"
      ],
      "metadata": {
        "id": "bKNng16sacTb"
      },
      "execution_count": null,
      "outputs": []
    },
    {
      "cell_type": "markdown",
      "source": [
        "Создайте датафрейм с описанной выше схемой данных"
      ],
      "metadata": {
        "id": "tNuqMUaPYIx7"
      }
    },
    {
      "cell_type": "code",
      "source": [
        "df = spark.createDataFrame(data=data,schema=schema)\n",
        "df = df.select(*[i for i in df.columns if i != 'timestamp'],\n",
        "          F.from_unixtime('timestamp').alias('date_time'))\n",
        "df.show()\n",
        "\n",
        "   "
      ],
      "metadata": {
        "colab": {
          "base_uri": "https://localhost:8080/"
        },
        "id": "PdUjDpd7L7kv",
        "outputId": "c23d4ac5-73e7-44c6-80c4-2dc07899ed83"
      },
      "execution_count": null,
      "outputs": [
        {
          "output_type": "stream",
          "name": "stdout",
          "text": [
            "+-----+------+-------+---------+-----+-------------------+\n",
            "|   id|  type|page_id|      tag| sign|          date_time|\n",
            "+-----+------+-------+---------+-----+-------------------+\n",
            "|12345| click|    101|    sport| true|2022-11-05 05:50:26|\n",
            "|12345|  move|    102|    sport| true|2013-09-29 00:00:00|\n",
            "|12346| visit|    103|       IT| true|2008-05-26 00:00:00|\n",
            "|12344|scroll|    104|education| true|2018-04-03 00:00:00|\n",
            "|12344| click|    105|education|false|2015-02-11 00:00:00|\n",
            "|12347|  move|    106| medicine| true|2012-05-22 00:00:00|\n",
            "|12346| click|    107|       IT|false|2002-07-07 00:00:00|\n",
            "|12346| click|    108|       IT|false|2012-03-23 00:00:00|\n",
            "|12345| visit|    109|    sport| true|2010-06-14 00:00:00|\n",
            "|12347| click|    110| medicine| true|2010-11-10 00:00:00|\n",
            "|12343|  move|    111|    sport| true|2001-03-30 00:00:00|\n",
            "|12348|scroll|    112| politics|false|2018-11-14 00:00:00|\n",
            "|12348| click|    113| politics|false|2019-05-06 00:00:00|\n",
            "|12345|  move|    114|    sport| true|2019-01-14 00:00:00|\n",
            "|12345|scroll|    115|    sport| true|2015-08-05 00:00:00|\n",
            "+-----+------+-------+---------+-----+-------------------+\n",
            "\n"
          ]
        }
      ]
    },
    {
      "cell_type": "markdown",
      "source": [
        "Вывести топ-5 самых активных посетителей сайта"
      ],
      "metadata": {
        "id": "jv4oFj_FMllQ"
      }
    },
    {
      "cell_type": "code",
      "source": [
        "df.groupBy(\"id\").agg({\"type\":\"count\"}).orderBy(\"count(type)\", ascending = False).show(5)"
      ],
      "metadata": {
        "colab": {
          "base_uri": "https://localhost:8080/"
        },
        "id": "tFiuwlPKMygI",
        "outputId": "7067a115-aa35-434f-de79-96cafdfef417"
      },
      "execution_count": null,
      "outputs": [
        {
          "output_type": "stream",
          "name": "stdout",
          "text": [
            "+-----+-----------+\n",
            "|   id|count(type)|\n",
            "+-----+-----------+\n",
            "|12345|          5|\n",
            "|12346|          3|\n",
            "|12347|          2|\n",
            "|12344|          2|\n",
            "|12348|          2|\n",
            "+-----+-----------+\n",
            "only showing top 5 rows\n",
            "\n"
          ]
        }
      ]
    },
    {
      "cell_type": "markdown",
      "source": [
        "Посчитать процент посетителей, у которых есть ЛК"
      ],
      "metadata": {
        "id": "Z7TqTg5dijde"
      }
    },
    {
      "cell_type": "code",
      "source": [
        "user_amount = df.count()\n",
        "sign_amount = df.filter((F.col('sign')=='True')).count()\n",
        "percent_LK = 100*sign_amount/user_amount\n",
        "print(\"процент посетителей, у которых есть ЛК: \" + str(percent_LK) + \"%\")"
      ],
      "metadata": {
        "colab": {
          "base_uri": "https://localhost:8080/"
        },
        "id": "hKhcHPFJM1tT",
        "outputId": "c9ef06b1-ae65-4945-8619-6d8bd6f1779a"
      },
      "execution_count": null,
      "outputs": [
        {
          "output_type": "stream",
          "name": "stdout",
          "text": [
            "процент посетителей, у которых есть ЛК: 66.66666666666667%\n"
          ]
        }
      ]
    },
    {
      "cell_type": "markdown",
      "source": [
        "Вывести топ-5 страниц сайта по показателю среднего кол-ва кликов на данной странице"
      ],
      "metadata": {
        "id": "m6J1g9yok2HX"
      }
    },
    {
      "cell_type": "code",
      "source": [
        "df.select('*').where(df[\"type\"]==\"click\").groupBy(\"page_id\").count().orderBy(\"count\", ascending = False).show(5)"
      ],
      "metadata": {
        "colab": {
          "base_uri": "https://localhost:8080/"
        },
        "id": "fff_qnilM9sy",
        "outputId": "716c98c2-2c8a-429a-d5b1-2e92ef142098"
      },
      "execution_count": null,
      "outputs": [
        {
          "output_type": "stream",
          "name": "stdout",
          "text": [
            "+-------+-----+\n",
            "|page_id|count|\n",
            "+-------+-----+\n",
            "|    101|    1|\n",
            "|    107|    1|\n",
            "|    105|    1|\n",
            "|    108|    1|\n",
            "|    113|    1|\n",
            "+-------+-----+\n",
            "only showing top 5 rows\n",
            "\n"
          ]
        }
      ]
    },
    {
      "cell_type": "markdown",
      "source": [
        "•   Добавьте столбец к фрейму данных со значением временного диапазона в рамках суток с размером окна – 4 часа(0-4, 4-8, 8-12 и т.д.)"
      ],
      "metadata": {
        "id": "qVDFb5pzlaF6"
      }
    },
    {
      "cell_type": "code",
      "source": [
        "df_time = df.withColumn(\"time_range\", F.floor(F.hour(\"date_time\") / F.lit(4)))\n",
        "df_time.show()"
      ],
      "metadata": {
        "colab": {
          "base_uri": "https://localhost:8080/"
        },
        "id": "OIB6Jwy6NEmk",
        "outputId": "1c329ec3-5d15-4e00-c140-bc8091a687f4"
      },
      "execution_count": null,
      "outputs": [
        {
          "output_type": "stream",
          "name": "stdout",
          "text": [
            "+-----+------+-------+---------+-----+-------------------+----------+\n",
            "|   id|  type|page_id|      tag| sign|          date_time|time_range|\n",
            "+-----+------+-------+---------+-----+-------------------+----------+\n",
            "|12345| click|    101|    sport| true|2022-11-05 05:50:26|         1|\n",
            "|12345|  move|    102|    sport| true|2013-09-29 00:00:00|         0|\n",
            "|12346| visit|    103|       IT| true|2008-05-26 00:00:00|         0|\n",
            "|12344|scroll|    104|education| true|2018-04-03 00:00:00|         0|\n",
            "|12344| click|    105|education|false|2015-02-11 00:00:00|         0|\n",
            "|12347|  move|    106| medicine| true|2012-05-22 00:00:00|         0|\n",
            "|12346| click|    107|       IT|false|2002-07-07 00:00:00|         0|\n",
            "|12346| click|    108|       IT|false|2012-03-23 00:00:00|         0|\n",
            "|12345| visit|    109|    sport| true|2010-06-14 00:00:00|         0|\n",
            "|12347| click|    110| medicine| true|2010-11-10 00:00:00|         0|\n",
            "|12343|  move|    111|    sport| true|2001-03-30 00:00:00|         0|\n",
            "|12348|scroll|    112| politics|false|2018-11-14 00:00:00|         0|\n",
            "|12348| click|    113| politics|false|2019-05-06 00:00:00|         0|\n",
            "|12345|  move|    114|    sport| true|2019-01-14 00:00:00|         0|\n",
            "|12345|scroll|    115|    sport| true|2015-08-05 00:00:00|         0|\n",
            "+-----+------+-------+---------+-----+-------------------+----------+\n",
            "\n"
          ]
        }
      ]
    },
    {
      "cell_type": "markdown",
      "source": [
        "Выведите временной промежуток на основе предыдущего задания, в течение которого было больше всего активностей на сайте."
      ],
      "metadata": {
        "id": "tCXjqtiRmSJj"
      }
    },
    {
      "cell_type": "code",
      "source": [
        "df_time.groupby(\"time_range\")\\\n",
        "      .agg(F.count(\"*\").alias(\"time_range_count\"))\\\n",
        "      .orderBy(\"time_range_count\", ascending = False)\\\n",
        "      .limit(1).show()"
      ],
      "metadata": {
        "id": "eoBI1Q_ONOS4",
        "colab": {
          "base_uri": "https://localhost:8080/"
        },
        "outputId": "88fb8aaf-205e-4a8c-dabb-f46669b0111b"
      },
      "execution_count": null,
      "outputs": [
        {
          "output_type": "stream",
          "name": "stdout",
          "text": [
            "+----------+----------------+\n",
            "|time_range|time_range_count|\n",
            "+----------+----------------+\n",
            "|         0|              14|\n",
            "+----------+----------------+\n",
            "\n"
          ]
        }
      ]
    },
    {
      "cell_type": "markdown",
      "source": [
        "Создайте второй фрейм данных, который будет содержать информацию о ЛК посетителя сайта со следующим списком атрибутов"
      ],
      "metadata": {
        "id": "rROmdiSvm-v1"
      }
    },
    {
      "cell_type": "code",
      "source": [
        "schema_2 = T.StructType([\n",
        "                T.StructField(\"id\", T.StringType(), True),\n",
        "                T.StructField(\"user_id\", T.IntegerType(), True),\n",
        "                T.StructField(\"fio\", T.StringType(), True),\n",
        "               T.StructField(\"dateofcreate_LK\", T.DateType(), True)])\n",
        "from datetime import datetime\n",
        "data_2 = [\n",
        "    (1, 12343, \"Сергеев Борис Джонсович\", datetime(2018, 6, 5), ),\n",
        "    (2, 12344, \"Иванов Иван Сергеевич\", datetime(2016, 1, 12),),\n",
        "    (3, 12345, \"Джеймс Джеймс Джеймcович\", datetime(2011, 4, 25), ),\n",
        "    (4, 12346, \"Полякова Ирина Витальевна\", datetime(2022, 11, 22), ),\n",
        "    (5, 12348, \"Михайлов Михаил Михайлович\", datetime(2017, 3, 13), ),\n",
        "    (6, 12349, \"Маратов Марат Маратович\", datetime(2017, 7, 7), ),\n",
        "]"
      ],
      "metadata": {
        "id": "HHuz3R2TnCcZ"
      },
      "execution_count": null,
      "outputs": []
    },
    {
      "cell_type": "code",
      "source": [
        "df_users = spark.createDataFrame(data = data_2, schema = schema_2)\n",
        "df_users.show()"
      ],
      "metadata": {
        "colab": {
          "base_uri": "https://localhost:8080/"
        },
        "id": "3GTpFBAGpbJO",
        "outputId": "3ff724a8-451a-436e-b067-73c72571ccbe"
      },
      "execution_count": null,
      "outputs": [
        {
          "output_type": "stream",
          "name": "stdout",
          "text": [
            "+---+-------+--------------------+---------------+\n",
            "| id|user_id|                 fio|dateofcreate_LK|\n",
            "+---+-------+--------------------+---------------+\n",
            "|  1|  12343|Сергеев Борис Джо...|     2018-06-05|\n",
            "|  2|  12344|Иванов Иван Серге...|     2016-01-12|\n",
            "|  3|  12345|Джеймс Джеймс Дже...|     2011-04-25|\n",
            "|  4|  12346|Полякова Ирина Ви...|     2022-11-22|\n",
            "|  5|  12348|Михайлов Михаил М...|     2017-03-13|\n",
            "|  6|  12349|Маратов Марат Мар...|     2017-07-07|\n",
            "+---+-------+--------------------+---------------+\n",
            "\n"
          ]
        }
      ]
    },
    {
      "cell_type": "markdown",
      "source": [
        "Вывести фамилии посетителей, которые читали хотя бы одну новость про спорт"
      ],
      "metadata": {
        "id": "ulM_6f3-ptof"
      }
    },
    {
      "cell_type": "code",
      "source": [
        "df_Stg = df_users.alias(\"lk\").join(df.alias(\"web\"),\n",
        "                                    on = [F.col(\"lk.user_id\") == F.col(\"web.id\")],\n",
        "                                    how = \"left\")\n",
        "\n",
        "df_sport = df_Stg.select(\"fio\", \"tag\")\\\n",
        "                      .filter((F.col('tag')=='Sport'))\\\n",
        "                      .select(\"fio\")\\\n",
        "                      .dropDuplicates([\"fio\"])\n",
        "df_sport.show(truncate=False)"
      ],
      "metadata": {
        "colab": {
          "base_uri": "https://localhost:8080/"
        },
        "id": "PSa0Duqsz3rE",
        "outputId": "e799f339-743c-4144-8d91-6a023b06febc"
      },
      "execution_count": null,
      "outputs": [
        {
          "output_type": "stream",
          "name": "stdout",
          "text": [
            "+---+\n",
            "|fio|\n",
            "+---+\n",
            "+---+\n",
            "\n"
          ]
        }
      ]
    }
  ]
}